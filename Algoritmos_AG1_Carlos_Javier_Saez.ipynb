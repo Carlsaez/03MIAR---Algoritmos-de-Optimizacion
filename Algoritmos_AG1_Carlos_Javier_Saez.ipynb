{
  "nbformat": 4,
  "nbformat_minor": 0,
  "metadata": {
    "colab": {
      "name": "Algoritmos - AG1 - Carlos Javier Saez.ipynb",
      "provenance": [],
      "collapsed_sections": [],
      "include_colab_link": true
    },
    "kernelspec": {
      "display_name": "Python 3",
      "language": "python",
      "name": "python3"
    },
    "language_info": {
      "codemirror_mode": {
        "name": "ipython",
        "version": 3
      },
      "file_extension": ".py",
      "mimetype": "text/x-python",
      "name": "python",
      "nbconvert_exporter": "python",
      "pygments_lexer": "ipython3",
      "version": "3.8.5"
    }
  },
  "cells": [
    {
      "cell_type": "markdown",
      "metadata": {
        "id": "view-in-github",
        "colab_type": "text"
      },
      "source": [
        "<a href=\"https://colab.research.google.com/github/Carlsaez/03MIAR---Algoritmos-de-Optimizacion/blob/main/Algoritmos_AG1_Carlos_Javier_Saez.ipynb\" target=\"_parent\"><img src=\"https://colab.research.google.com/assets/colab-badge.svg\" alt=\"Open In Colab\"/></a>"
      ]
    },
    {
      "cell_type": "markdown",
      "metadata": {
        "id": "GG2D6vLdYwwy"
      },
      "source": [
        "# Actividad Guiada 1 de Algoritmos de Optimizacion\n",
        "\n",
        "## Nombre: Carlos Javier Sáez Salcedo\n",
        "\n",
        "Link Google Colab: https://colab.research.google.com/drive/1T9kBb9SFDDzBMETczD58nPWNG_WhXrtN#scrollTo=rTiqLuX2ZKuL\n",
        "\n",
        "Link Github: https://github.com/Carlsaez/03MIAR---Algoritmos-de-Optimizacion/tree/main/AG1"
      ]
    },
    {
      "cell_type": "code",
      "metadata": {
        "colab": {
          "base_uri": "https://localhost:8080/"
        },
        "id": "rTiqLuX2ZKuL",
        "outputId": "a6bb7d78-127e-45da-d1b6-7ae8a053e840"
      },
      "source": [
        "#Torres de Hanoi - Divide y venceras\n",
        "################################################################################\n",
        "\n",
        "\n",
        "################################################################\n",
        "def Torres_Hanoi(N, desde, hasta):\n",
        "# N - Nº de fichas\n",
        "# desde\n",
        "# hasta\n",
        "  if N==1:\n",
        "    print(\"mueve desde \" , desde, \"hasta \", hasta)\n",
        "  else:\n",
        "    Torres_Hanoi(N-1, desde, 6-desde-hasta)\n",
        "    print(\"mueve desde \" , desde, \"hasta \", hasta)\n",
        "    Torres_Hanoi(N-1, 6-desde-hasta, hasta)\n",
        "    \n",
        "Torres_Hanoi(6,1,3)\n",
        "################################################################"
      ],
      "execution_count": null,
      "outputs": [
        {
          "output_type": "stream",
          "text": [
            "mueve desde  1 hasta  2\n",
            "mueve desde  1 hasta  3\n",
            "mueve desde  2 hasta  3\n",
            "mueve desde  1 hasta  2\n",
            "mueve desde  3 hasta  1\n",
            "mueve desde  3 hasta  2\n",
            "mueve desde  1 hasta  2\n",
            "mueve desde  1 hasta  3\n",
            "mueve desde  2 hasta  3\n",
            "mueve desde  2 hasta  1\n",
            "mueve desde  3 hasta  1\n",
            "mueve desde  2 hasta  3\n",
            "mueve desde  1 hasta  2\n",
            "mueve desde  1 hasta  3\n",
            "mueve desde  2 hasta  3\n",
            "mueve desde  1 hasta  2\n",
            "mueve desde  3 hasta  1\n",
            "mueve desde  3 hasta  2\n",
            "mueve desde  1 hasta  2\n",
            "mueve desde  3 hasta  1\n",
            "mueve desde  2 hasta  3\n",
            "mueve desde  2 hasta  1\n",
            "mueve desde  3 hasta  1\n",
            "mueve desde  3 hasta  2\n",
            "mueve desde  1 hasta  2\n",
            "mueve desde  1 hasta  3\n",
            "mueve desde  2 hasta  3\n",
            "mueve desde  1 hasta  2\n",
            "mueve desde  3 hasta  1\n",
            "mueve desde  3 hasta  2\n",
            "mueve desde  1 hasta  2\n",
            "mueve desde  1 hasta  3\n",
            "mueve desde  2 hasta  3\n",
            "mueve desde  2 hasta  1\n",
            "mueve desde  3 hasta  1\n",
            "mueve desde  2 hasta  3\n",
            "mueve desde  1 hasta  2\n",
            "mueve desde  1 hasta  3\n",
            "mueve desde  2 hasta  3\n",
            "mueve desde  2 hasta  1\n",
            "mueve desde  3 hasta  1\n",
            "mueve desde  3 hasta  2\n",
            "mueve desde  1 hasta  2\n",
            "mueve desde  3 hasta  1\n",
            "mueve desde  2 hasta  3\n",
            "mueve desde  2 hasta  1\n",
            "mueve desde  3 hasta  1\n",
            "mueve desde  2 hasta  3\n",
            "mueve desde  1 hasta  2\n",
            "mueve desde  1 hasta  3\n",
            "mueve desde  2 hasta  3\n",
            "mueve desde  1 hasta  2\n",
            "mueve desde  3 hasta  1\n",
            "mueve desde  3 hasta  2\n",
            "mueve desde  1 hasta  2\n",
            "mueve desde  1 hasta  3\n",
            "mueve desde  2 hasta  3\n",
            "mueve desde  2 hasta  1\n",
            "mueve desde  3 hasta  1\n",
            "mueve desde  2 hasta  3\n",
            "mueve desde  1 hasta  2\n",
            "mueve desde  1 hasta  3\n",
            "mueve desde  2 hasta  3\n"
          ],
          "name": "stdout"
        }
      ]
    },
    {
      "cell_type": "code",
      "metadata": {
        "colab": {
          "base_uri": "https://localhost:8080/"
        },
        "id": "YwBudj2hYoMR",
        "outputId": "c40c02bf-8efd-4df7-e8f7-2187a7bee1f6"
      },
      "source": [
        "#Cambio de monedas - Técnica voraz\n",
        "################################################################################\n",
        "\n",
        "################################################################\n",
        "def cambio_monedas(CANTIDAD,SISTEMA):\n",
        "  VALOR_ACUMULADO = 0\n",
        "  SOLUCION = [0 for i in range(len(SISTEMA))] # [0,0,...,0]\n",
        "\n",
        "  for i in range(len(SISTEMA)):\n",
        "    monedas = (CANTIDAD - VALOR_ACUMULADO) // SISTEMA[i]\n",
        "    SOLUCION[i] = monedas\n",
        "    VALOR_ACUMULADO += SISTEMA[i] * monedas\n",
        "\n",
        "    if VALOR_ACUMULADO == CANTIDAD:\n",
        "      return SOLUCION\n",
        "    \n",
        "    if ((CANTIDAD - VALOR_ACUMULADO) < SISTEMA[-1]):\n",
        "      print(f'No hay solución, cambio: {SOLUCION}')\n",
        "      break\n",
        "\n",
        "SISTEMA = sorted([25, 10, 5, 1], reverse=True)\n",
        "cambio_monedas(27,SISTEMA)\n",
        "################################################################"
      ],
      "execution_count": null,
      "outputs": [
        {
          "output_type": "execute_result",
          "data": {
            "text/plain": [
              "[1, 0, 0, 2]"
            ]
          },
          "metadata": {
            "tags": []
          },
          "execution_count": 5
        }
      ]
    },
    {
      "cell_type": "code",
      "metadata": {
        "colab": {
          "base_uri": "https://localhost:8080/"
        },
        "id": "H4Iwt2XRZTFr",
        "outputId": "ce8bdc00-081f-451d-ac09-4dde72df07ad"
      },
      "source": [
        "#N Reinas - Vuelta Atrás()\n",
        "################################################################################\n",
        "\n",
        "#Verifica que en la solución parcial no hay amenzas entre reinas\n",
        "################################################################\n",
        "def es_prometedora(SOLUCION,etapa):\n",
        "################################################################\n",
        "  #print(SOLUCION)\n",
        "  #Si la solución tiene dos valores iguales no es valida => Dos reinas en la misma fila\n",
        "  for i in range(etapa+1):\n",
        "    #print(\"El valor \" + str(SOLUCION[i]) + \" está \" +  str(SOLUCION.count(SOLUCION[i])) + \" veces\")\n",
        "    if SOLUCION.count(SOLUCION[i]) > 1:       \n",
        "      return False\n",
        "  \n",
        "    #Verifica las diagonales\n",
        "    for j in range(i+1, etapa +1 ):\n",
        "      #print(\"Comprobando diagonal de \" + str(i) + \" y \" + str(j))\n",
        "      if abs(i-j) == abs(SOLUCION[i]-SOLUCION[j]) : return False\n",
        "  return True\n",
        "\n",
        "#Traduce la solución al tablero\n",
        "################################################################\n",
        "def escribe_solucion(S):\n",
        "################################################################\n",
        "  n = len(S)\n",
        "  for x in range(n):\n",
        "    print(\"\")\n",
        "    for i in range(n):\n",
        "      if S[i] == x+1:\n",
        "        print(\" X \" , end=\"\")\n",
        "      else:\n",
        "        print(\" - \", end=\"\")\n",
        "\n",
        "\n",
        "\n",
        "#Proceso principal de N-Reinas\n",
        "################################################################\n",
        "def reinas(N,solucion=[],etapa=0): \n",
        "################################################################\n",
        "### ....\n",
        "  if len(solucion) == 0:\n",
        "    solucion = [0 for i in range(N)]\n",
        "\n",
        "  for i in range(1, N+1):\n",
        "    solucion[etapa] = i\n",
        "\n",
        "    if es_prometedora(solucion, etapa):\n",
        "        if etapa == N-1:\n",
        "          print(f'La solución es: {solucion}')\n",
        "          escribe_solucion(solucion)\n",
        "          print('\\n\\n')\n",
        "        else:\n",
        "          reinas(N,solucion, etapa+1)\n",
        "    else:\n",
        "      None\n",
        "\n",
        "    solucion[etapa] = 0\n",
        "\n",
        "reinas(4,solucion=[],etapa=0)"
      ],
      "execution_count": null,
      "outputs": [
        {
          "output_type": "stream",
          "text": [
            "La solución es: [2, 4, 1, 3]\n",
            "\n",
            " -  -  X  - \n",
            " X  -  -  - \n",
            " -  -  -  X \n",
            " -  X  -  - \n",
            "\n",
            "\n",
            "La solución es: [3, 1, 4, 2]\n",
            "\n",
            " -  X  -  - \n",
            " -  -  -  X \n",
            " X  -  -  - \n",
            " -  -  X  - \n",
            "\n",
            "\n"
          ],
          "name": "stdout"
        }
      ]
    },
    {
      "cell_type": "code",
      "metadata": {
        "id": "eTZclKH9QV0R"
      },
      "source": [
        ""
      ],
      "execution_count": null,
      "outputs": []
    },
    {
      "cell_type": "code",
      "metadata": {
        "id": "iPcgVSMabXrU",
        "outputId": "c6c40d80-0976-46fb-9fa4-1e1a8fef8398"
      },
      "source": [
        "#Viaje por el rio - Programación dinámica\n",
        "################################################################################\n",
        "\n",
        "TARIFAS = [\n",
        "[0,5,4,3,999,999,999],\n",
        "[999,0,999,2,3,999,11],\n",
        "[999,999, 0,1,999,4,10],\n",
        "[999,999,999, 0,5,6,9],\n",
        "[999,999, 999,999,0,999,4],\n",
        "[999,999, 999,999,999,0,3],\n",
        "[999,999,999,999,999,999,0]\n",
        "]\n",
        "\n",
        "#999 se puede sustituir por float(\"inf\")\n",
        "\n",
        "\n",
        "#Calculo de la matriz de PRECIOS y RUTAS\n",
        "################################################################  \n",
        "def Precios(TARIFAS):\n",
        "################################################################ \n",
        "# Total de nodos\n",
        "    N = len(TARIFAS[0])\n",
        "\n",
        "    # Inicializamos la tarifa de precios\n",
        "    PRECIOS = [[9999]*N for i in [9999]*N]\n",
        "    RUTA = [[\"\"]*N for i in [\"\"]*N]\n",
        "\n",
        "    for i in range(N-1):\n",
        "        for j in range(i+1, N):\n",
        "            MIN = TARIFAS[i][j]\n",
        "            RUTA[i][j] = i\n",
        "\n",
        "            for k in range(i,j):\n",
        "                if PRECIOS[i][k] + TARIFAS[k][j] < MIN:\n",
        "                    MIN = min(MIN, PRECIOS[i][k] + TARIFAS[k][j])\n",
        "                    RUTA[i][j] = k\n",
        "                PRECIOS[i][j] = MIN\n",
        "\n",
        "    return PRECIOS, RUTA\n",
        "\n",
        "PRECIOS,RUTA = Precios(TARIFAS)  \n",
        "#print(PRECIOS[0][6])\n",
        "\n",
        "print(\"PRECIOS\")\n",
        "for i in range(len(TARIFAS)):\n",
        "  print(PRECIOS[i])\n",
        "\n",
        "print(\"\\nRUTA\")  \n",
        "for i in range(len(TARIFAS)):\n",
        "  print(RUTA[i])  \n",
        "  \n",
        "#Determinar la ruta con Recursividad\n",
        "################################################################\n",
        "def calcular_ruta(RUTA, desde, hasta):\n",
        "################################################################\n",
        "  if desde == hasta:\n",
        "    #print(\"Ir a :\" + str(desde))\n",
        "    return '' \n",
        "  else:\n",
        "    return str(calcular_ruta( RUTA, desde, RUTA[desde][hasta])) +  \\\n",
        "                ',' + \\\n",
        "                str(RUTA[desde][hasta] \\\n",
        "              ) \n",
        "\n",
        "print(\"\\nLa ruta es:\")  \n",
        "calcular_ruta(RUTA, 0,6) "
      ],
      "execution_count": null,
      "outputs": [
        {
          "output_type": "stream",
          "text": [
            "PRECIOS\n",
            "[9999, 5, 4, 3, 8, 8, 11]\n",
            "[9999, 9999, 999, 2, 3, 8, 7]\n",
            "[9999, 9999, 9999, 1, 6, 4, 7]\n",
            "[9999, 9999, 9999, 9999, 5, 6, 9]\n",
            "[9999, 9999, 9999, 9999, 9999, 999, 4]\n",
            "[9999, 9999, 9999, 9999, 9999, 9999, 3]\n",
            "[9999, 9999, 9999, 9999, 9999, 9999, 9999]\n",
            "\n",
            "RUTA\n",
            "['', 0, 0, 0, 1, 2, 5]\n",
            "['', '', 1, 1, 1, 3, 4]\n",
            "['', '', '', 2, 3, 2, 5]\n",
            "['', '', '', '', 3, 3, 3]\n",
            "['', '', '', '', '', 4, 4]\n",
            "['', '', '', '', '', '', 5]\n",
            "['', '', '', '', '', '', '']\n",
            "\n",
            "La ruta es:\n"
          ],
          "name": "stdout"
        },
        {
          "output_type": "execute_result",
          "data": {
            "text/plain": [
              "',0,2,5'"
            ]
          },
          "metadata": {
            "tags": []
          },
          "execution_count": 11
        }
      ]
    }
  ]
}