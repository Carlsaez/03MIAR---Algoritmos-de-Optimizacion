{
 "cells": [
  {
   "cell_type": "markdown",
   "metadata": {
    "colab_type": "text",
    "id": "hVbXYX-RfPWh"
   },
   "source": [
    "# Algoritmos de optimización - Seminario<br>\n",
    "Nombre y Apellidos: Carlos Javier Sáez Salcedo  <br>\n",
    "Url: https://github.com/Carlsaez/03MIAR---Algoritmos-de-Optimizacion/tree/main/SEMINARIO<br>\n",
    "Problema:\n",
    ">3. Combinar cifras y operaciones\n",
    "\n",
    "Descripción del problema:\n",
    "\n",
    "El problema consiste en analizar el siguiente problema y diseñar un algoritmo que lo resuelva.\n",
    "- Disponemos de las 9 cifras del 1 al 9 (excluimos el cero) y de los 4 signos básicos de las operaciones fundamentales: suma(+), resta(-), multiplicación(*) y división(/)\n",
    "- Debemos combinarlos alternativamente sin repetir ninguno de ellos para obtener una cantidad dada. Un ejemplo sería para obtener el 4: **4+2-6/3*1 = 4**\n",
    "\n",
    "Debe analizarse el problema para encontrar todos los valores enteros posibles planteando las\n",
    "siguientes cuestiones:\n",
    "- ¿Qué valor máximo y mínimo se pueden obtener según las condiciones del problema?\n",
    "- ¿Es posible encontrar todos los valores enteros posibles entre dicho mínimo y máximo ?\n",
    "\n",
    "(*) La respuesta es obligatoria\n",
    "\n",
    "\n",
    "\n",
    "\n",
    "\n",
    "                                        "
   ]
  },
  {
   "cell_type": "markdown",
   "metadata": {},
   "source": [
    "#### ¿Qué valor máximo y mínimo se pueden obtener según las condiciones del problema?"
   ]
  },
  {
   "cell_type": "markdown",
   "metadata": {},
   "source": [
    "Para encontrar el valor máximo y mínimo hemos de obtener todos los valores posibles combinando los números y los operadores.\n",
    "\n",
    "Por un lado, primero habrá que calcular todos los arrays de tamaño 5 posibles a partir de un conjunto de 9 elementos sin que ninguno de ellos se repita. Aquí estamos ante una variación sin repetición, por lo que la forma de obtener el número total de soluciones es:\n",
    "$$\n",
    "\\frac{n!}{(n-k)!}\n",
    "$$\n",
    "Que en nuestro caso sería:\n",
    "$$\n",
    "\\frac{9!}{(9-5)!} = 15.120\n",
    "$$\n",
    "\n",
    "Por otro lado, tendremos que encontrar todas las posiciones posibles que puedan tomar los operadores básicos. En este caso hablamos de permutación sin repetición, porque hemos de obtener todas las soluciones para 4 elementos sin que se repitan.\n",
    "\n",
    "$$\n",
    "n! = 4! = 24\n",
    "$$\n",
    "\n",
    "En definitiva, combinando los números junto con los operadores, tendríamos un total de 15.120 * 24 = **362.880** posibles soluciones."
   ]
  },
  {
   "cell_type": "markdown",
   "metadata": {},
   "source": [
    "Para responder a la cuestión haremos uso del siguiente algoritmo por fuerza bruta, donde calcularemos todas las posibles soluciones según las restricciones dadas."
   ]
  },
  {
   "cell_type": "code",
   "execution_count": 1,
   "metadata": {},
   "outputs": [],
   "source": [
    "# Importamos las librerías necesarias para la ejecución del código\n",
    "import itertools as it\n",
    "import numpy as np\n",
    "\n",
    "##########################################################\n",
    "#### Calculamos nuestro dominio: Números y Operadores ####\n",
    "##########################################################\n",
    "\n",
    "# Combinación sin repetición + Permutación sin repetición = Variación sin repetición\n",
    "comb =list(it.combinations([1,2,3,4,5,6,7,8,9], 5))\n",
    "perm = [list(it.permutations(i)) for i in comb]\n",
    "x = list(it.chain.from_iterable(perm))\n",
    "\n",
    "# Permutación sin repecición\n",
    "op =list(it.permutations(['+','-','*','/']))\n",
    "\n",
    "###########################################################\n",
    "#### Generar ecuación: Combinamos números y operadores ####\n",
    "###########################################################\n",
    "# Combinamos el listado de números con los operadores para obtener la ecuación como string\n",
    "# Como input tenemos una tupla de números y otra de operadores\n",
    "\n",
    "def generar_ecuacion(x,op):\n",
    "    ecuacion = ''\n",
    "    for i in range(len(x)):\n",
    "        if i == (len(x)-1):\n",
    "            ecuacion = str(ecuacion) + str(x[i])\n",
    "        else:\n",
    "            ecuacion =str(ecuacion) + str(x[i]) + op[i]\n",
    "    return ecuacion\n",
    "\n",
    "###########################################################\n",
    "####     Generar todas las soluciones posibles         ####\n",
    "###########################################################\n",
    "# Generamos un diccionario con todos los resultados numéricos enteros porsibles\n",
    "# Como input tenemos todas las tuplas de números y operadores\n",
    "\n",
    "def generar_todas_soluciones(x,op):\n",
    "    soluciones=[]\n",
    "    eq=[]\n",
    "    dictionary=dict()\n",
    "    count=0\n",
    "    for i in x:\n",
    "        for j in op:\n",
    "            eq = generar_ecuacion(i,j)\n",
    "            solucion = eval(eq)\n",
    "            if solucion % 1 == 0:\n",
    "                dictionary[solucion]=str(eq)\n",
    "                count += 1\n",
    "    return dictionary, count\n",
    "\n",
    "########################################################\n",
    "####     Función principal                          ####\n",
    "########################################################\n",
    "\n",
    "def all_solutions(x,op):\n",
    "    D, count = generar_todas_soluciones(x,op)\n",
    "    return D, count\n"
   ]
  },
  {
   "cell_type": "markdown",
   "metadata": {},
   "source": [
    "En definitiva, vamos a generar un diccionario con todas las soluciones posibles a las diferentes combinaciones entre números y operadores matemáticos.\n",
    "Para ello haremos uso de las funciones previamente creadas.\n",
    "- Inputs \"all_solutions\":\n",
    "    - x: son todas las tuplas posibles de tamaño 5 para los números del 1 al 9\n",
    "    - op: son todas las combinaciones posibles de los operadores\n",
    "    \n",
    "- Outputs:\n",
    "    - D: Diccionario con todos los resultados posibles\n",
    "    - count: Contador para mostrar el total de ecuaciones posibles con un resultado válido (número entero)"
   ]
  },
  {
   "cell_type": "code",
   "execution_count": 2,
   "metadata": {},
   "outputs": [],
   "source": [
    "# Ejecutamos la función \"all_solutions\"\n",
    "# Los inputs los hemos generado ya en el código de la celda anterior\n",
    "D, count = all_solutions(x,op)"
   ]
  },
  {
   "cell_type": "code",
   "execution_count": 3,
   "metadata": {},
   "outputs": [
    {
     "name": "stdout",
     "output_type": "stream",
     "text": [
      "Máximo: 77.0\n",
      "Solución máximo: 9*8+7-6/3\n",
      "Mínimo: -69.0\n",
      "Solución mínimo: 6/3-9*8+1\n"
     ]
    }
   ],
   "source": [
    "# Cálculo del máximo y mínimo (solo valores enteros según las restricciones)\n",
    "maximo = max(D.keys())\n",
    "print(f\"Máximo: {maximo}\")\n",
    "print(f\"Solución máximo: {D[maximo]}\")\n",
    "\n",
    "minimo = min(D.keys())\n",
    "print(f\"Mínimo: {minimo}\")\n",
    "print(f\"Solución mínimo: {D[minimo]}\")"
   ]
  },
  {
   "cell_type": "markdown",
   "metadata": {},
   "source": [
    "#### ¿Es posible encontrar todos los valores enteros posibles entre dicho mínimo y máximo ?"
   ]
  },
  {
   "cell_type": "markdown",
   "metadata": {},
   "source": [
    "Para verificar si podemos obtener todos los enteros entre el máximo y el mínimo primero hemos de obtener un array con todos los enteros entre el mínimo y el máximo que acabamos de calcular.\n",
    "\n",
    "Por otro lado, extraemos de nuestro diccionario todos los resultados que se obtienen.\n",
    "\n",
    "En último lugar, comparamos ambos arrays para verificar que efectivamente son iguales."
   ]
  },
  {
   "cell_type": "code",
   "execution_count": 4,
   "metadata": {},
   "outputs": [
    {
     "data": {
      "text/plain": [
       "array([ True,  True,  True,  True,  True,  True,  True,  True,  True,\n",
       "        True,  True,  True,  True,  True,  True,  True,  True,  True,\n",
       "        True,  True,  True,  True,  True,  True,  True,  True,  True,\n",
       "        True,  True,  True,  True,  True,  True,  True,  True,  True,\n",
       "        True,  True,  True,  True,  True,  True,  True,  True,  True,\n",
       "        True,  True,  True,  True,  True,  True,  True,  True,  True,\n",
       "        True,  True,  True,  True,  True,  True,  True,  True,  True,\n",
       "        True,  True,  True,  True,  True,  True,  True,  True,  True,\n",
       "        True,  True,  True,  True,  True,  True,  True,  True,  True,\n",
       "        True,  True,  True,  True,  True,  True,  True,  True,  True,\n",
       "        True,  True,  True,  True,  True,  True,  True,  True,  True,\n",
       "        True,  True,  True,  True,  True,  True,  True,  True,  True,\n",
       "        True,  True,  True,  True,  True,  True,  True,  True,  True,\n",
       "        True,  True,  True,  True,  True,  True,  True,  True,  True,\n",
       "        True,  True,  True,  True,  True,  True,  True,  True,  True,\n",
       "        True,  True,  True,  True,  True,  True,  True,  True,  True,\n",
       "        True,  True,  True])"
      ]
     },
     "execution_count": 4,
     "metadata": {},
     "output_type": "execute_result"
    }
   ],
   "source": [
    "# Verificar si se obtienen todos los enteros entre el máximo y el mínimo\n",
    "# Lo primero será obtener un array con todos los enteros entre el máximo y el mínimo\n",
    "rango_numeros = np.array(range(-69,78,1))\n",
    "\n",
    "# A continuación obtenemos todos los números obtenidos mediante el algoritmo y los ordenamos\n",
    "numeros_dict = np.array(list(D.keys())).astype(int)\n",
    "\n",
    "# Comparamos ambos arrays\n",
    "rango_numeros == np.sort(numeros_dict)"
   ]
  },
  {
   "cell_type": "markdown",
   "metadata": {},
   "source": [
    "Según hemos posido demostrar anteriormente, es posible encontrar todos los enteros entre el mínimo y el máximo."
   ]
  },
  {
   "cell_type": "markdown",
   "metadata": {
    "colab_type": "text",
    "id": "3_-exlrTgLd-"
   },
   "source": [
    "#### (*)¿Cuantas posibilidades hay sin tener en cuenta las restricciones?<br>\n",
    "\n",
    "\n",
    "\n",
    "#### ¿Cuantas posibilidades hay teniendo en cuenta todas las restricciones.\n",
    "\n",
    "\n"
   ]
  },
  {
   "cell_type": "markdown",
   "metadata": {
    "colab": {},
    "colab_type": "code",
    "id": "iq6Fe32MgpDX"
   },
   "source": [
    "Para responder correctamente a estas cuestiones, se van a enumerar las restricciones del problema:\n",
    "1. Números del 1 al 9 sin repetirse\n",
    "2. Operadores fundamentales sin repetirse (+,-,*,/)\n",
    "3. Valores enteros\n",
    "\n",
    "- Sin tener en cuenta las restricciones que acabamos de enumerar tendríamos infinitas soluciones. Podríamos usar tantos números y operadores como quisiéramos, por lo que podríamos obtener cualquier número.\n",
    "\n",
    "\n",
    "- Teniendo en cuenta las restricciones partimos de un total de 362.880 ecuaciones según hemos calculado en el primer apartado. De todas estas ecuaciones, únicamente nos valen aquellas que den como resultado un número entero. Este valor nos lo ofrecerá la variable \"count\" previamente calculada. Y de todas esas ecuaciones podremos llegar a tener 147 resultados diferentes entre el -69 y el 77.\n"
   ]
  },
  {
   "cell_type": "code",
   "execution_count": 5,
   "metadata": {},
   "outputs": [
    {
     "name": "stdout",
     "output_type": "stream",
     "text": [
      "Existe un total de 90000 ecuaciones con un resultado válido según nuestras restricciones.\n"
     ]
    }
   ],
   "source": [
    "print(f\"Existe un total de {count} ecuaciones con un resultado válido según nuestras restricciones.\")"
   ]
  },
  {
   "cell_type": "markdown",
   "metadata": {
    "colab_type": "text",
    "id": "dzynfVJahHoY"
   },
   "source": [
    "#### Modelo para el espacio de soluciones<br>\n",
    "#### (*) ¿Cual es la estructura de datos que mejor se adapta al problema? Argumentalo.(Es posible que hayas elegido una al principio y veas la necesidad de cambiar, arguentalo)\n"
   ]
  },
  {
   "cell_type": "markdown",
   "metadata": {
    "colab": {},
    "colab_type": "code",
    "id": "38c-7-ejhJmA"
   },
   "source": [
    "La estructura de datos que he utilizado es un array de tamaño 5 para representar los números, en el que cada elemento puede descubrirse en la etapa i-esima. A través un arbol de expansión se modela todo el espacio de soluciones posible. Las razones por las que creo que es el más correcto son las siguientes:\n",
    "- Es un problema discreto en el que las soluciones se componen de elementos que pueden ser relacionados entre sí a través de un árbol.\n",
    "- Existe la posibilidad de eliminar determinados caminos con una función descarte y así evitar explorar todas las posibles soluciones reduciendo el coste computacional."
   ]
  },
  {
   "cell_type": "markdown",
   "metadata": {},
   "source": [
    "#### Según el modelo para el espacio de soluciones<br>\n",
    "#### (*)¿Cual es la función objetivo?"
   ]
  },
  {
   "cell_type": "markdown",
   "metadata": {},
   "source": [
    "Nuestra función objetivo sería la evaluación de la ecuación para obtener el resultado.\n",
    "$$f = eval(x)$$ siendo x la ecuación a resolver."
   ]
  },
  {
   "cell_type": "markdown",
   "metadata": {
    "colab_type": "text",
    "id": "7Z9U2W7bi-XS"
   },
   "source": [
    "#### (*)¿Es un problema de maximización o minimización?"
   ]
  },
  {
   "cell_type": "markdown",
   "metadata": {
    "colab": {},
    "colab_type": "code",
    "id": "pDA-rg3Gj5Lz"
   },
   "source": [
    "En este caso no se trata de un problema de minimización o maximización. Estamos ante un problema de búsqueda donde no existe una solución óptima, por lo que no hay posibilidad de maximizar o minimizar."
   ]
  },
  {
   "cell_type": "markdown",
   "metadata": {
    "colab_type": "text",
    "id": "rlnTYgY1j6I2"
   },
   "source": [
    "#### Diseña un algoritmo para resolver el problema por fuerza bruta"
   ]
  },
  {
   "cell_type": "markdown",
   "metadata": {},
   "source": [
    "En la siguiente celda tenemos el algoritmo para resolver el problema por fuerza bruta. En este caso exploramos todas las posibles soluciones mostrando todas las ecuaciones que dan como resultado el número dado."
   ]
  },
  {
   "cell_type": "code",
   "execution_count": 6,
   "metadata": {},
   "outputs": [],
   "source": [
    "# Importamos las librerías necesarias para la ejecución del código\n",
    "import itertools as it\n",
    "import numpy as np\n",
    "\n",
    "##########################################################\n",
    "#### Calculamos nuestro dominio: Números y Operadores ####\n",
    "##########################################################\n",
    "\n",
    "# Combinación sin repetición + Permutación sin repetición = Variación sin repetición\n",
    "comb =list(it.combinations([1,2,3,4,5,6,7,8,9], 5))\n",
    "perm = [list(it.permutations(i)) for i in comb]\n",
    "x = list(it.chain.from_iterable(perm))\n",
    "\n",
    "# Permutación sin repecición\n",
    "op =list(it.permutations(['+','-','*','/']))\n",
    "\n",
    "###########################################################\n",
    "#### Generar ecuación: Combinamos números y operadores ####\n",
    "###########################################################\n",
    "# Combinamos el listado de números con los operadores para obtener la ecuación como string\n",
    "# Como input tenemos una tupla de números y otra de operadores\n",
    "\n",
    "def generar_ecuacion(x,op):\n",
    "    ecuacion = ''\n",
    "    for i in range(len(x)):\n",
    "        if i == (len(x)-1):\n",
    "            ecuacion = str(ecuacion) + str(x[i])\n",
    "        else:\n",
    "            ecuacion =str(ecuacion) + str(x[i]) + op[i]\n",
    "    return ecuacion\n",
    "\n",
    "###########################################################\n",
    "####     Generar todas las ecuaciones posibles         ####\n",
    "###########################################################\n",
    "# Generamos nuestro conjunto de posibles soluciones\n",
    "# Como input tenemos todas las tuplas de números y operadores\n",
    "\n",
    "def generar_todas_soluciones(x,op,num):\n",
    "    soluciones=[]\n",
    "    eq=[]\n",
    "    for i in x:\n",
    "        for j in op:\n",
    "            eq_i = generar_ecuacion(i,j)\n",
    "            solucion = eval(eq_i)\n",
    "            if solucion == num: \n",
    "                if len(eq) == 0:\n",
    "                    eq = eq_i\n",
    "                else:\n",
    "                    eq = np.vstack((eq, eq_i))\n",
    "    return eq\n",
    "        \n",
    "########################################################\n",
    "####     Función principal                          ####\n",
    "########################################################\n",
    "\n",
    "def fuerza_bruta(num):\n",
    "    eq = generar_todas_soluciones(x,op,num)\n",
    "    if len(eq) == 0:\n",
    "        return print(f\"No existe solución para el número: {num}\")\n",
    "    return print(f\"Las posibles soluciones son: {eq}\")"
   ]
  },
  {
   "cell_type": "code",
   "execution_count": 7,
   "metadata": {},
   "outputs": [
    {
     "name": "stdout",
     "output_type": "stream",
     "text": [
      "Las posibles soluciones son: [['7/1-2+8*9']\n",
      " ['7/1-2+9*8']\n",
      " ['7/1+8*9-2']\n",
      " ['7/1+9*8-2']\n",
      " ['7-2/1+8*9']\n",
      " ['7-2/1+9*8']\n",
      " ['7-2+8/1*9']\n",
      " ['7-2+8*9/1']\n",
      " ['7-2+9/1*8']\n",
      " ['7-2+9*8/1']\n",
      " ['7+8/1*9-2']\n",
      " ['7+8*9/1-2']\n",
      " ['7+8*9-2/1']\n",
      " ['7+9/1*8-2']\n",
      " ['7+9*8/1-2']\n",
      " ['7+9*8-2/1']\n",
      " ['8/1*9-2+7']\n",
      " ['8/1*9+7-2']\n",
      " ['8*9/1-2+7']\n",
      " ['8*9/1+7-2']\n",
      " ['8*9-2/1+7']\n",
      " ['8*9-2+7/1']\n",
      " ['8*9+7/1-2']\n",
      " ['8*9+7-2/1']\n",
      " ['9/1*8-2+7']\n",
      " ['9/1*8+7-2']\n",
      " ['9*8/1-2+7']\n",
      " ['9*8/1+7-2']\n",
      " ['9*8-2/1+7']\n",
      " ['9*8-2+7/1']\n",
      " ['9*8+7/1-2']\n",
      " ['9*8+7-2/1']\n",
      " ['7-4/2+8*9']\n",
      " ['7-4/2+9*8']\n",
      " ['7+8*9-4/2']\n",
      " ['7+9*8-4/2']\n",
      " ['8*9-4/2+7']\n",
      " ['8*9+7-4/2']\n",
      " ['9*8-4/2+7']\n",
      " ['9*8+7-4/2']\n",
      " ['7-6/3+8*9']\n",
      " ['7-6/3+9*8']\n",
      " ['7+8*9-6/3']\n",
      " ['7+9*8-6/3']\n",
      " ['8*9-6/3+7']\n",
      " ['8*9+7-6/3']\n",
      " ['9*8-6/3+7']\n",
      " ['9*8+7-6/3']]\n"
     ]
    }
   ],
   "source": [
    "fuerza_bruta(77)"
   ]
  },
  {
   "cell_type": "markdown",
   "metadata": {
    "colab_type": "text",
    "id": "tgrnsC2nkFa8"
   },
   "source": [
    "#### Calcula la complejidad del algoritmo por fuerza bruta"
   ]
  },
  {
   "cell_type": "markdown",
   "metadata": {
    "colab": {},
    "colab_type": "code",
    "id": "rvZWwL-ckRST"
   },
   "source": [
    "La complejidad del algoritmo por fuerza fruta sería factorial: $$ O(n!) $$ "
   ]
  },
  {
   "cell_type": "markdown",
   "metadata": {
    "colab_type": "text",
    "id": "txbrmLmskReM"
   },
   "source": [
    "#### (*)Diseña un algoritmo que mejore la complejidad del algortimo por fuerza bruta. Argumenta porque crees que mejora el algoritmo por fuerza bruta"
   ]
  },
  {
   "cell_type": "markdown",
   "metadata": {},
   "source": [
    "A continuación mostramos un algoritmo al que le aplicamos una función de descarte que nos elimine aquellas ramas que sepamos que no nos van a llevar a nuestra solución. Hemos aplicado la técnica de ramificación y poda.\n",
    "\n",
    "Además, por otro lado hemos conseguido reducir las combinaciones de los operadores a 2:\n",
    "- (/,-,*,+)\n",
    "- (/,+,*,-)\n",
    "\n",
    "Con estas dos combinaciones podremos obtener de igual manera todos los números enteros posibles.\n",
    "\n",
    "Queda claro que este algoritmo mejora con creces al de fuerza bruta ya que no exploramos todas las ramas, sino que nos centramos únicamente en las candidatas a solución reduciendo considerablemente el coste computacional."
   ]
  },
  {
   "cell_type": "code",
   "execution_count": 8,
   "metadata": {},
   "outputs": [],
   "source": [
    "# Importamos las librerías necesarias\n",
    "import numpy as np\n",
    "\n",
    "##########################################################\n",
    "####  Función para generar hijos de un ÚNICO nodo     ####\n",
    "##########################################################\n",
    "\n",
    "def generar_nodo(x,i):\n",
    "    lista = np.array(range(1,10))  # Lista con los 9 números posibles\n",
    "    diff = np.setdiff1d(lista, x)  # Sacamos los elementos que no estén en el nodo\n",
    "    nodos=np.array([])\n",
    "    for item in diff:\n",
    "        x[i] = item\n",
    "        if len(nodos) == 0:\n",
    "            nodos = x.copy()\n",
    "        else:\n",
    "            nodos = np.vstack((nodos,x))\n",
    "    return nodos\n",
    "\n",
    "############################################################\n",
    "#### Función para generar hijos de un CONJUNTO de nodos ####\n",
    "############################################################\n",
    "\n",
    "def generar_hijos(nodos, i):\n",
    "    hijos_total=[]\n",
    "    for item in nodos.copy():\n",
    "        hijos = generar_nodo(item, i)   # Para cada nodo hacemos uso de la función \"generar_nodo\"\n",
    "        if len(hijos_total) == 0:\n",
    "            hijos_total = hijos.copy()\n",
    "        else:\n",
    "            hijos_total = np.vstack((hijos_total, hijos))\n",
    "    return hijos_total\n",
    "\n",
    "\n",
    "########################################################\n",
    "####     Función de Evaluación                      ####\n",
    "########################################################\n",
    "# En esta función a medida que se va construyendo la solución evaluamos \n",
    "# si puede ser candidata de solución o no\n",
    "# Por un lado evaluamos si la función puede dar un resultado decimal, en ese caso descartamos\n",
    "# Por otro lado, verifica si el resultado está cerca del número que queremos obtener o no.\n",
    "\n",
    "def soluciones_validas(x, i, num):\n",
    "    mask = []\n",
    "    if i == 1:\n",
    "        for item in x:\n",
    "            if item[0] % item[1] == 0:\n",
    "                mask = np.append(mask,True)\n",
    "            else:\n",
    "                mask = np.append(mask,False)\n",
    "        return x[mask.astype('bool')]\n",
    "    else:\n",
    "        return x\n",
    "    \n",
    "    if i == 3:\n",
    "        for item in x:\n",
    "            if num < 0:\n",
    "                result = item[0] / item[1] - item[2] * item[3]\n",
    "            else:\n",
    "                result = item[0] / item[1] + item[2] * item[3]\n",
    "\n",
    "            if (abs(num) - abs(result)) < 9:\n",
    "                mask = np.append(mask,True)\n",
    "            else:\n",
    "                mask = np.append(mask,False)\n",
    "        return x[mask.astype('bool')]\n",
    "    else:\n",
    "        return x\n",
    "    \n",
    "    \n",
    "########################################################\n",
    "####     Función para generar Ecuación              ####\n",
    "########################################################\n",
    "# Combinamos el listado de números con los operadores para obtener la ecuación\n",
    "\n",
    "def generar_ecuacion(x,op):\n",
    "    ecuacion = ''\n",
    "    x = x.astype(int)\n",
    "    for i in range(len(x)):\n",
    "        if i == (len(x)-1):\n",
    "            ecuacion = str(ecuacion) + str(x[i])\n",
    "        else:\n",
    "            ecuacion =str(ecuacion) + str(x[i]) + op[i]\n",
    "    return ecuacion\n",
    "\n",
    "########################################################\n",
    "####     Función para evaluar la ecuación           ####\n",
    "########################################################\n",
    "# Por cada ecuación que genera evalua si el resultado es el que queremos obtener\n",
    "\n",
    "def solucion(x,op,num):\n",
    "    soluciones=[]\n",
    "    eq=[]\n",
    "    for i in x:\n",
    "        eq = generar_ecuacion(i,op)\n",
    "        solucion = eval(eq)\n",
    "        if solucion == num:\n",
    "            return eq\n",
    "            \n",
    "########################################################\n",
    "####     Función principal                          ####\n",
    "########################################################\n",
    "# En esta función vamos generando el array de 5 números por etapas\n",
    "# Tras cada etapa evaluamos el array para descartar aquellos que no son candidatos a solución\n",
    "\n",
    "def obtener_ecuacion(num):\n",
    "    inicio = np.array(np.zeros(5))\n",
    "    nodo = []\n",
    "    \n",
    "    if len(nodo) == 0:\n",
    "        nodo = generar_nodo(inicio, 0)\n",
    "    \n",
    "    for i in range(1,5):\n",
    "        nodo = generar_hijos(nodo,i)\n",
    "        nodo = soluciones_validas(nodo,i, num)\n",
    "    \n",
    "    # Según si el número es positivo o negativo podremos obtener el resultado \n",
    "    # con estas dos combinaciones de operadores.\n",
    "    if num < 0:\n",
    "        op = ['/','-', '*','+']\n",
    "    else:\n",
    "        op = ['/','+', '*','-']\n",
    "\n",
    "    eq = solucion(nodo,op,num)\n",
    "    \n",
    "    if eq == None:\n",
    "        return print(f\"No existe solución para el número: {num}\")\n",
    "    \n",
    "    return print(f\"La solución es: {eq}\")"
   ]
  },
  {
   "cell_type": "code",
   "execution_count": 9,
   "metadata": {
    "colab": {},
    "colab_type": "code",
    "id": "m1eyM21Vkabg"
   },
   "outputs": [
    {
     "name": "stdout",
     "output_type": "stream",
     "text": [
      "La solución es: 2/1+3*8-6\n"
     ]
    }
   ],
   "source": [
    "obtener_ecuacion(20)"
   ]
  },
  {
   "cell_type": "markdown",
   "metadata": {
    "colab_type": "text",
    "id": "eGDB4K6uk1iN"
   },
   "source": [
    "#### (*)Calcula la complejidad del algoritmo "
   ]
  },
  {
   "cell_type": "markdown",
   "metadata": {
    "colab": {},
    "colab_type": "code",
    "id": "nREzhkStlCq8"
   },
   "source": [
    "En este caso la complejidad del algoritmo pasaría a ser polinomial: $$ O(n^a) $$"
   ]
  },
  {
   "cell_type": "markdown",
   "metadata": {
    "colab_type": "text",
    "id": "3M6QjTsSkmYe"
   },
   "source": [
    "#### Según el problema (y tenga sentido), diseña un juego de datos de entrada aleatorios"
   ]
  },
  {
   "cell_type": "markdown",
   "metadata": {
    "colab": {},
    "colab_type": "code",
    "id": "sJ-N2etjkyWc"
   },
   "source": [
    "Para nuestro problema y en concreto algoritmo, no tiene sentido generar un juego de datos de entrada aleatorio ya que partimos de una tupla con los valores a 0: [0,0,0,0,0]"
   ]
  },
  {
   "cell_type": "markdown",
   "metadata": {
    "colab_type": "text",
    "id": "zy5ZROmjlGo1"
   },
   "source": [
    "#### Aplica el algoritmo al juego de datos generado"
   ]
  },
  {
   "cell_type": "markdown",
   "metadata": {
    "colab": {},
    "colab_type": "code",
    "id": "Jkx8GeiYlUz1"
   },
   "source": [
    "No aplica"
   ]
  },
  {
   "cell_type": "markdown",
   "metadata": {
    "colab_type": "text",
    "id": "eTFWUJQrtGcv"
   },
   "source": [
    "#### Enumera las referencias que has utilizado(si ha sido necesario) para llevar a cabo el trabajo"
   ]
  },
  {
   "cell_type": "markdown",
   "metadata": {},
   "source": [
    "La únicas referencias que he consultando han sido las dispositivas y el manual de la asignatura Algoritmos de Optimización."
   ]
  },
  {
   "cell_type": "markdown",
   "metadata": {
    "colab_type": "text",
    "id": "kAkDPUyRtYyH"
   },
   "source": [
    "#### Describe brevemente las lineas de como crees que es posible avanzar en el estudio del problema. Ten en cuenta incluso posibles variaciones del problema y/o variaciones al alza del tamaño"
   ]
  },
  {
   "cell_type": "markdown",
   "metadata": {},
   "source": [
    "Este problema podría avanzar si quitasemos alguna de las restricciones. Una opción sería tener en cuenta también los valores decimales, aumentaría el tamaño de las posibles soluciones.\n",
    "Por otro lado, también se podría aumentar el tamaño inicial del array pudiendo repetir tanto números como operadores matemáticos."
   ]
  }
 ],
 "metadata": {
  "colab": {
   "collapsed_sections": [],
   "name": "Seminario - Algoritmos.ipynb",
   "provenance": [],
   "version": "0.3.2"
  },
  "interpreter": {
   "hash": "3d6418183709ad7c0324c4c0a78711db5ef11d967d815457bbb577d26bce827c"
  },
  "kernelspec": {
   "display_name": "Python 3",
   "language": "python",
   "name": "python3"
  },
  "language_info": {
   "codemirror_mode": {
    "name": "ipython",
    "version": 3
   },
   "file_extension": ".py",
   "mimetype": "text/x-python",
   "name": "python",
   "nbconvert_exporter": "python",
   "pygments_lexer": "ipython3",
   "version": "3.8.5"
  }
 },
 "nbformat": 4,
 "nbformat_minor": 4
}
